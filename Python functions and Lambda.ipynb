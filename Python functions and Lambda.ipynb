{
 "cells": [
  {
   "cell_type": "code",
   "execution_count": 1,
   "id": "814f1dc9",
   "metadata": {},
   "outputs": [
    {
     "name": "stdout",
     "output_type": "stream",
     "text": [
      "Hello from a function\n"
     ]
    }
   ],
   "source": [
    "def my_func():\n",
    "    print(\"Hello from a function\")\n",
    "    \n",
    "my_func()"
   ]
  },
  {
   "cell_type": "code",
   "execution_count": 5,
   "id": "d1577916",
   "metadata": {},
   "outputs": [
    {
     "name": "stdout",
     "output_type": "stream",
     "text": [
      "Marcus is from London\n",
      "Joey is from London\n"
     ]
    }
   ],
   "source": [
    "def my_func_name(fname):\n",
    "    print(fname + \" is \" + \"from London\")\n",
    "\n",
    "my_func_name(\"Marcus\")\n",
    "my_func_name(\"Joey\")"
   ]
  },
  {
   "cell_type": "markdown",
   "id": "a98cbfd5",
   "metadata": {},
   "source": [
    "// But if argument is one and value passed is more than one then it will give an error in that case"
   ]
  },
  {
   "cell_type": "markdown",
   "id": "f9c0329c",
   "metadata": {},
   "source": [
    "## Using *Args - Using Arbitrary Arguments"
   ]
  },
  {
   "cell_type": "code",
   "execution_count": 8,
   "id": "37c4fbcb",
   "metadata": {},
   "outputs": [
    {
     "name": "stdout",
     "output_type": "stream",
     "text": [
      "The youngest child is Aakash\n"
     ]
    }
   ],
   "source": [
    "def my_func(*kids):\n",
    "    print(\"The youngest child is \"+ kids [1])\n",
    "\n",
    "my_func(\"Emil\", \"Aakash\", \"Ankur\")"
   ]
  },
  {
   "cell_type": "markdown",
   "id": "ed6dfd71",
   "metadata": {},
   "source": [
    "## Using Keyword Argument - *Kwargs"
   ]
  },
  {
   "cell_type": "code",
   "execution_count": 13,
   "id": "321d383d",
   "metadata": {},
   "outputs": [
    {
     "name": "stdout",
     "output_type": "stream",
     "text": [
      "The youngest child is Aakash\n"
     ]
    }
   ],
   "source": [
    "def my_func(child3, child2, child1):\n",
    "    print(\"The youngest child is \" + child3)\n",
    "\n",
    "my_func(child1 = \"Emil\", child3 = \"Aakash\", child2 = \"Ankur\")"
   ]
  },
  {
   "cell_type": "markdown",
   "id": "5524d238",
   "metadata": {},
   "source": [
    "##### Order doesn't matter in this as in case of *Args"
   ]
  },
  {
   "cell_type": "markdown",
   "id": "a5f9c6dd",
   "metadata": {},
   "source": [
    "## Arbitary keyword Arguments **kwargs"
   ]
  },
  {
   "cell_type": "code",
   "execution_count": 17,
   "id": "e8857e9f",
   "metadata": {},
   "outputs": [
    {
     "name": "stdout",
     "output_type": "stream",
     "text": [
      "His last name is Saxena\n"
     ]
    }
   ],
   "source": [
    "def my_func(**kid):\n",
    "    print(\"His last name is \"+ kid[\"lname\"])\n",
    "    \n",
    "my_func(fname = \"Aakash\", lname = \"Saxena\")"
   ]
  },
  {
   "cell_type": "markdown",
   "id": "3827f0c8",
   "metadata": {},
   "source": [
    "# Default parameters"
   ]
  },
  {
   "cell_type": "code",
   "execution_count": 19,
   "id": "b1633031",
   "metadata": {},
   "outputs": [
    {
     "name": "stdout",
     "output_type": "stream",
     "text": [
      "my country is London\n",
      "my country is India\n"
     ]
    }
   ],
   "source": [
    "def my_func(country = \"India\"):\n",
    "    print(\"my country is \" + country)\n",
    "\n",
    "my_func(\"London\")\n",
    "my_func()"
   ]
  },
  {
   "cell_type": "markdown",
   "id": "c9bfbebb",
   "metadata": {},
   "source": [
    "// uses same as in the parameter if the function is without argument"
   ]
  },
  {
   "cell_type": "markdown",
   "id": "4f913b91",
   "metadata": {},
   "source": [
    "# Passing a list as an argument"
   ]
  },
  {
   "cell_type": "code",
   "execution_count": 22,
   "id": "93970f22",
   "metadata": {},
   "outputs": [
    {
     "name": "stdout",
     "output_type": "stream",
     "text": [
      "apple\n",
      "banana\n",
      "cherry\n"
     ]
    }
   ],
   "source": [
    "def my_func(fruits):\n",
    "    for x in fruits:\n",
    "        print(x)\n",
    "\n",
    "fruit = [\"apple\", \"banana\", \"cherry\"]\n",
    "\n",
    "my_func(fruit)"
   ]
  },
  {
   "cell_type": "markdown",
   "id": "d65e06fb",
   "metadata": {},
   "source": [
    "# Return Values"
   ]
  },
  {
   "cell_type": "code",
   "execution_count": 24,
   "id": "0387dfb7",
   "metadata": {},
   "outputs": [
    {
     "name": "stdout",
     "output_type": "stream",
     "text": [
      "15\n",
      "25\n"
     ]
    }
   ],
   "source": [
    "def my_func(x):\n",
    "    return 5*x\n",
    "\n",
    "print(my_func(3))\n",
    "print(my_func(5))"
   ]
  },
  {
   "cell_type": "markdown",
   "id": "a1f68ebf",
   "metadata": {},
   "source": [
    "# Function with no content - Pass"
   ]
  },
  {
   "cell_type": "markdown",
   "id": "51cc3780",
   "metadata": {},
   "source": [
    "# Recursion"
   ]
  },
  {
   "cell_type": "code",
   "execution_count": 32,
   "id": "c6a18ffb",
   "metadata": {},
   "outputs": [
    {
     "name": "stdout",
     "output_type": "stream",
     "text": [
      "1\n",
      "3\n",
      "6\n",
      "10\n",
      "15\n"
     ]
    },
    {
     "data": {
      "text/plain": [
       "15"
      ]
     },
     "execution_count": 32,
     "metadata": {},
     "output_type": "execute_result"
    }
   ],
   "source": [
    "def my_func(x):\n",
    "    if (x>0):\n",
    "        s = x + my_func(x-1)\n",
    "        print(s)\n",
    "    else:\n",
    "        s = 0\n",
    "    return s\n",
    "\n",
    "my_func(5)"
   ]
  },
  {
   "cell_type": "markdown",
   "id": "d33afd91",
   "metadata": {},
   "source": [
    "# Lambda"
   ]
  },
  {
   "cell_type": "markdown",
   "id": "62f05b13",
   "metadata": {},
   "source": [
    "// small anonymous function\n",
    "// take any number of arguments, but can have only one expression"
   ]
  },
  {
   "cell_type": "code",
   "execution_count": 33,
   "id": "bc9023a6",
   "metadata": {},
   "outputs": [
    {
     "name": "stdout",
     "output_type": "stream",
     "text": [
      "15\n"
     ]
    }
   ],
   "source": [
    "x = lambda a : a*5\n",
    "\n",
    "print(x(3))"
   ]
  },
  {
   "cell_type": "code",
   "execution_count": 34,
   "id": "75267b49",
   "metadata": {},
   "outputs": [
    {
     "name": "stdout",
     "output_type": "stream",
     "text": [
      "22\n"
     ]
    }
   ],
   "source": [
    "def my_lamb(n):\n",
    "    return lambda a:a*n\n",
    "\n",
    "mydoubler = my_lamb(2)\n",
    "print(mydoubler(11))"
   ]
  },
  {
   "cell_type": "code",
   "execution_count": null,
   "id": "f7a75165",
   "metadata": {},
   "outputs": [],
   "source": []
  }
 ],
 "metadata": {
  "kernelspec": {
   "display_name": "Python 3 (ipykernel)",
   "language": "python",
   "name": "python3"
  },
  "language_info": {
   "codemirror_mode": {
    "name": "ipython",
    "version": 3
   },
   "file_extension": ".py",
   "mimetype": "text/x-python",
   "name": "python",
   "nbconvert_exporter": "python",
   "pygments_lexer": "ipython3",
   "version": "3.9.12"
  }
 },
 "nbformat": 4,
 "nbformat_minor": 5
}
