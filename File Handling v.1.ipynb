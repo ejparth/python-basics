{
 "cells": [
  {
   "cell_type": "markdown",
   "id": "daa05802",
   "metadata": {},
   "source": [
    "In File handling we can read, write, create, append etc. while doing file handling"
   ]
  },
  {
   "cell_type": "markdown",
   "id": "9f0c24f3",
   "metadata": {},
   "source": [
    "Syntax // open(\"filepath\",'mode')"
   ]
  },
  {
   "cell_type": "markdown",
   "id": "441e659d",
   "metadata": {},
   "source": [
    "mode - r, w, a , rt(read and write) ,b(binary mode), x(empty file)"
   ]
  },
  {
   "cell_type": "markdown",
   "id": "f170d627",
   "metadata": {},
   "source": [
    "### Creating a new file"
   ]
  },
  {
   "cell_type": "code",
   "execution_count": 13,
   "id": "18bc32ac",
   "metadata": {},
   "outputs": [
    {
     "name": "stdout",
     "output_type": "stream",
     "text": [
      "File created successfully\n"
     ]
    }
   ],
   "source": [
    "f= open(\"C:\\\\Users\\\\aakas\\\\Downloads\\Ass.txt\",\"x\")\n",
    "print(\"File created successfully\")"
   ]
  },
  {
   "cell_type": "markdown",
   "id": "70ccc508",
   "metadata": {},
   "source": [
    "NOTE : // always take \"//\" in file path"
   ]
  },
  {
   "cell_type": "markdown",
   "id": "412d99b8",
   "metadata": {},
   "source": [
    "### Writing to file"
   ]
  },
  {
   "cell_type": "code",
   "execution_count": null,
   "id": "3aa29fac",
   "metadata": {},
   "outputs": [],
   "source": [
    "f= open(\"C:\\\\Users\\\\aakas\\\\Downloads\\Ass.txt\",\"w\")\n",
    "f.write(\"Hare Krishna\\n Jai Vrindavan Dham\")\n",
    "print(\"Written successfully\")"
   ]
  },
  {
   "cell_type": "markdown",
   "id": "f5cde5f7",
   "metadata": {},
   "source": [
    "### Reading file"
   ]
  },
  {
   "cell_type": "code",
   "execution_count": 17,
   "id": "502da709",
   "metadata": {},
   "outputs": [
    {
     "name": "stdout",
     "output_type": "stream",
     "text": [
      "Hare Krishna\n",
      " Jai Vrindavan Dh\n"
     ]
    }
   ],
   "source": [
    "f= open(\"C:\\\\Users\\\\aakas\\\\Downloads\\Ass.txt\",\"r\")\n",
    "print(f.read(30))"
   ]
  },
  {
   "cell_type": "markdown",
   "id": "8709672b",
   "metadata": {},
   "source": [
    "### Exception Handling"
   ]
  },
  {
   "cell_type": "code",
   "execution_count": 35,
   "id": "fcdd0ac1",
   "metadata": {},
   "outputs": [
    {
     "name": "stdout",
     "output_type": "stream",
     "text": [
      "file namefdf\n",
      "C:\\Users\\aakas\\Downloads\\fdf.txt\n",
      "file is not available.. plz create first\n"
     ]
    }
   ],
   "source": [
    "Name = input(\"file name\")\n",
    "\n",
    "directory = \"C:\\\\Users\\\\aakas\\\\Downloads\\\\\"\n",
    "fname = Name\n",
    "extension = \"txt\"\n",
    "\n",
    "full_path = directory + fname + \".\" + extension\n",
    "print(full_path)\n",
    "\n",
    "try:\n",
    "    f=open(full_path,\"r\")\n",
    "    print(f.readlines())\n",
    "except:\n",
    "    print(\"file is not available.. plz create first\")\n",
    "else:\n",
    "    f.readlines(30)\n",
    "    f.close()\n",
    "    print(\"File Closed..!!\")"
   ]
  },
  {
   "cell_type": "markdown",
   "id": "32e457ee",
   "metadata": {},
   "source": [
    "### File handling with automatic closing"
   ]
  },
  {
   "cell_type": "code",
   "execution_count": 36,
   "id": "f078028d",
   "metadata": {},
   "outputs": [
    {
     "name": "stdout",
     "output_type": "stream",
     "text": [
      "file name Ass\n",
      "Hare Krishna\n",
      " Jai Vrindavan Dham\n"
     ]
    }
   ],
   "source": [
    "Name = input(\"file name \")\n",
    "\n",
    "directory = \"C:\\\\Users\\\\aakas\\\\Downloads\\\\\"\n",
    "fname = Name\n",
    "extension = \"txt\"\n",
    "\n",
    "full_path = directory + fname + \".\" + extension\n",
    "\n",
    "try:\n",
    "    with open(full_path, 'r') as file:\n",
    "        # Do something with the opened file here\n",
    "        # For example, you can read its contents\n",
    "        content = file.read()\n",
    "        print(content)\n",
    "except FileNotFoundError:\n",
    "    print(f\"File not found: {full_path}\")\n",
    "except IOError as e:\n",
    "    print(f\"Error opening the file: {str(e)}\")"
   ]
  },
  {
   "cell_type": "markdown",
   "id": "eadea7f9",
   "metadata": {},
   "source": [
    "Using with open() in Python is preferred over just using open() without the with statement because it ensures that the file is properly closed after its suite finishes, even if an exception occurs. This is known as the \"context management\" or \"context manager\" feature."
   ]
  },
  {
   "cell_type": "code",
   "execution_count": 42,
   "id": "5887d337",
   "metadata": {},
   "outputs": [
    {
     "name": "stdout",
     "output_type": "stream",
     "text": [
      "file name Ass\n",
      "Hare Krishna\n",
      " Jai Vrindavan Dham\n"
     ]
    }
   ],
   "source": [
    "Name = input(\"file name \")\n",
    "\n",
    "directory = \"C:\\\\Users\\\\aakas\\\\Downloads\\\\\"\n",
    "fname = Name\n",
    "extension = \"txt\"\n",
    "\n",
    "full_path = directory + fname + \".\" + extension\n",
    "\n",
    "file = open(full_path, 'r')\n",
    "content = file.read()\n",
    "print(content)\n",
    "file.close()  # Don't forget to manually close the file"
   ]
  },
  {
   "cell_type": "code",
   "execution_count": 48,
   "id": "d7b74bd4",
   "metadata": {},
   "outputs": [
    {
     "name": "stdout",
     "output_type": "stream",
     "text": [
      "file name smriti\n",
      "File not found\n"
     ]
    }
   ],
   "source": [
    "Name = input(\"file name \")\n",
    "\n",
    "directory = \"C:\\\\Users\\\\aakas\\\\Downloads\\\\\"\n",
    "fname = Name\n",
    "extension = \"txt\"\n",
    "\n",
    "full_path = directory + fname + \".\" + extension\n",
    "try:\n",
    "    with open(full_path, 'r') as file:\n",
    "        content = file.read()\n",
    "        print(content)\n",
    "except:\n",
    "    print(\"File not found\")\n",
    "# The file is automatically closed after leaving the 'with' block"
   ]
  },
  {
   "cell_type": "markdown",
   "id": "2e4fa4fe",
   "metadata": {},
   "source": [
    "# Exercise:\n"
   ]
  },
  {
   "cell_type": "markdown",
   "id": "b1d5e083",
   "metadata": {},
   "source": [
    "### Writing, appending and reading from a file"
   ]
  },
  {
   "cell_type": "code",
   "execution_count": 81,
   "id": "dba5c2bb",
   "metadata": {
    "scrolled": true
   },
   "outputs": [
    {
     "name": "stdout",
     "output_type": "stream",
     "text": [
      "My name is Aakash\n",
      "\n"
     ]
    }
   ],
   "source": [
    "with open(\"c:\\\\Users\\\\aakas\\\\Downloads\\\\Ass.txt\", \"w\") as fname:\n",
    "    fname.write(\"My name is Aakash\\n\")\n",
    "\n",
    "with open(\"c:\\\\Users\\\\aakas\\\\Downloads\\\\Ass.txt\", \"r\") as f:\n",
    "    contents =  f.read()\n",
    "    print(contents)\n"
   ]
  },
  {
   "cell_type": "code",
   "execution_count": 82,
   "id": "806f5e64",
   "metadata": {},
   "outputs": [
    {
     "name": "stdout",
     "output_type": "stream",
     "text": [
      "My name is Aakash\n",
      "I love in Lucknow\n",
      "\n"
     ]
    }
   ],
   "source": [
    "with open(\"c:\\\\Users\\\\aakas\\\\Downloads\\\\Ass.txt\", \"a\") as fname:\n",
    "    fname.write(\"I love in Lucknow\\n\")\n",
    "    \n",
    "with open(\"c:\\\\Users\\\\aakas\\\\Downloads\\\\Ass.txt\", \"r\") as f:\n",
    "    contents = f.read()\n",
    "    print(contents)"
   ]
  },
  {
   "cell_type": "code",
   "execution_count": 83,
   "id": "db16ce30",
   "metadata": {},
   "outputs": [
    {
     "name": "stdout",
     "output_type": "stream",
     "text": [
      "My name is Aakash\n",
      "I love in Lucknow\n",
      "I love Radha Krishna\n",
      "\n"
     ]
    }
   ],
   "source": [
    "with open(\"c:\\\\Users\\\\aakas\\\\Downloads\\\\Ass.txt\", \"a\") as fname:\n",
    "    fname.write(\"I love Radha Krishna\\n\")\n",
    "    \n",
    "with open(\"c:\\\\Users\\\\aakas\\\\Downloads\\\\Ass.txt\", \"r\") as f:\n",
    "    contents = f.read()\n",
    "    print(contents)"
   ]
  },
  {
   "cell_type": "markdown",
   "id": "8f040fa3",
   "metadata": {},
   "source": [
    "### Deleting a text from file"
   ]
  },
  {
   "cell_type": "code",
   "execution_count": 78,
   "id": "98caf965",
   "metadata": {},
   "outputs": [
    {
     "name": "stdout",
     "output_type": "stream",
     "text": [
      "My name is Aakash\n",
      "\n"
     ]
    }
   ],
   "source": [
    "with open(\"c:\\\\Users\\\\aakas\\\\Downloads\\\\Ass.txt\", \"r\") as fname:\n",
    "    list = fname.readlines()\n",
    "\n",
    "\n",
    "with open(\"c:\\\\Users\\\\aakas\\\\Downloads\\\\Ass.txt\", \"w\") as fname:\n",
    "    for i in list:\n",
    "        if \"love\" not in i:\n",
    "            fname.write(i)\n",
    "            \n",
    "with open(\"c:\\\\Users\\\\aakas\\\\Downloads\\\\Ass.txt\", \"r\") as fname:\n",
    "    contents = fname.read()\n",
    "    print(contents)\n",
    "\n",
    "    \n"
   ]
  },
  {
   "cell_type": "markdown",
   "id": "61ba2a3b",
   "metadata": {},
   "source": [
    "### Replacing a single word in a text file"
   ]
  },
  {
   "cell_type": "code",
   "execution_count": 86,
   "id": "7515728f",
   "metadata": {},
   "outputs": [
    {
     "name": "stdout",
     "output_type": "stream",
     "text": [
      "Old content: My name is Aakash\n",
      "I  in Lucknow\n",
      "I  Radha Krishna\n",
      "\n",
      "New content: My name is Aakash\n",
      "I  in Lucknow\n",
      "I  Radha Krishna\n",
      "\n"
     ]
    }
   ],
   "source": [
    "with open(\"c:\\\\Users\\\\aakas\\\\Downloads\\\\Ass.txt\", \"r\") as fname:\n",
    "    content = fname.read()\n",
    "    print(f\"Old content: {content}\")\n",
    "    \n",
    "    modified_content = content.replace(\"love\", '')\n",
    "\n",
    "    # replacing a single word from the text file\n",
    "    \n",
    "with open(\"c:\\\\Users\\\\aakas\\\\Downloads\\\\Ass.txt\", \"w\") as fname:\n",
    "    final_content = fname.write(modified_content)\n",
    "    \n",
    "with open(\"c:\\\\Users\\\\aakas\\\\Downloads\\\\Ass.txt\", \"r\") as fname:\n",
    "    contents = fname.read()\n",
    "    print(f\"New content: {contents}\")\n",
    "    "
   ]
  },
  {
   "cell_type": "code",
   "execution_count": null,
   "id": "4bb291f3",
   "metadata": {},
   "outputs": [],
   "source": []
  }
 ],
 "metadata": {
  "kernelspec": {
   "display_name": "Python 3 (ipykernel)",
   "language": "python",
   "name": "python3"
  },
  "language_info": {
   "codemirror_mode": {
    "name": "ipython",
    "version": 3
   },
   "file_extension": ".py",
   "mimetype": "text/x-python",
   "name": "python",
   "nbconvert_exporter": "python",
   "pygments_lexer": "ipython3",
   "version": "3.9.12"
  }
 },
 "nbformat": 4,
 "nbformat_minor": 5
}
