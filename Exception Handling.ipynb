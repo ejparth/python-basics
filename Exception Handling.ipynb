{
 "cells": [
  {
   "cell_type": "markdown",
   "id": "376914e9",
   "metadata": {},
   "source": [
    "# Exception Handling"
   ]
  },
  {
   "cell_type": "code",
   "execution_count": 6,
   "id": "b604a934",
   "metadata": {},
   "outputs": [
    {
     "name": "stdout",
     "output_type": "stream",
     "text": [
      "Enter the number: 10\n",
      "Multiplication table of 10 is : \n",
      "10 X 1 = 10\n",
      "10 X 2 = 20\n",
      "10 X 3 = 30\n",
      "10 X 4 = 40\n",
      "10 X 5 = 50\n",
      "10 X 6 = 60\n",
      "10 X 7 = 70\n",
      "10 X 8 = 80\n",
      "10 X 9 = 90\n",
      "10 X 10 = 100\n",
      "Some imp lines of code\n"
     ]
    }
   ],
   "source": [
    "a = input(\"Enter the number: \")\n",
    "print(f\"Multiplication table of {a} is : \")\n",
    "\n",
    "try:\n",
    "    for i in range(1,11):\n",
    "        print(f\"{int(a)} X {i} = {int(a)*i}\")\n",
    "except Exception as e:\n",
    "    print(\"Invalid Input!, Input a number\")\n",
    "    \n",
    "print(\"Some imp lines of code\")"
   ]
  },
  {
   "cell_type": "markdown",
   "id": "17ae5c41",
   "metadata": {},
   "source": [
    "// Exception could be for anything like ValueError, IndexError"
   ]
  },
  {
   "cell_type": "code",
   "execution_count": 16,
   "id": "ff2a570e",
   "metadata": {},
   "outputs": [
    {
     "name": "stdout",
     "output_type": "stream",
     "text": [
      "Input a denominator 0\n",
      "Invalid Input\n"
     ]
    }
   ],
   "source": [
    "denominator = input(\"Input a denominator \")\n",
    "\n",
    "try:\n",
    "    answer = 100/int(denominator)\n",
    "except:\n",
    "    print(\"Invalid Input\")\n",
    "else:\n",
    "    print(f\"final answer is {answer}\")"
   ]
  },
  {
   "cell_type": "code",
   "execution_count": null,
   "id": "abdb31e0",
   "metadata": {},
   "outputs": [],
   "source": []
  },
  {
   "cell_type": "code",
   "execution_count": null,
   "id": "eaa90211",
   "metadata": {},
   "outputs": [],
   "source": []
  }
 ],
 "metadata": {
  "kernelspec": {
   "display_name": "Python 3 (ipykernel)",
   "language": "python",
   "name": "python3"
  },
  "language_info": {
   "codemirror_mode": {
    "name": "ipython",
    "version": 3
   },
   "file_extension": ".py",
   "mimetype": "text/x-python",
   "name": "python",
   "nbconvert_exporter": "python",
   "pygments_lexer": "ipython3",
   "version": "3.9.12"
  }
 },
 "nbformat": 4,
 "nbformat_minor": 5
}
